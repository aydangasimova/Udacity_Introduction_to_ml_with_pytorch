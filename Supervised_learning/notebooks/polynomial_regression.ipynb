{
 "cells": [
  {
   "cell_type": "markdown",
   "metadata": {},
   "source": [
    "# <center> Polynomial Regression Exercise"
   ]
  },
  {
   "cell_type": "markdown",
   "metadata": {},
   "source": [
    "### Import libraries"
   ]
  },
  {
   "cell_type": "code",
   "execution_count": 402,
   "metadata": {},
   "outputs": [],
   "source": [
    "import numpy as np\n",
    "import pandas as pd\n",
    "import matplotlib as plt\n",
    "from sklearn.preprocessing import PolynomialFeatures\n",
    "from sklearn.linear_model import LinearRegression\n",
    "import matplotlib.pyplot as plt"
   ]
  },
  {
   "cell_type": "markdown",
   "metadata": {},
   "source": [
    "### Load DF of training data"
   ]
  },
  {
   "cell_type": "code",
   "execution_count": 403,
   "metadata": {},
   "outputs": [
    {
     "data": {
      "text/html": [
       "<div>\n",
       "<style scoped>\n",
       "    .dataframe tbody tr th:only-of-type {\n",
       "        vertical-align: middle;\n",
       "    }\n",
       "\n",
       "    .dataframe tbody tr th {\n",
       "        vertical-align: top;\n",
       "    }\n",
       "\n",
       "    .dataframe thead th {\n",
       "        text-align: right;\n",
       "    }\n",
       "</style>\n",
       "<table border=\"1\" class=\"dataframe\">\n",
       "  <thead>\n",
       "    <tr style=\"text-align: right;\">\n",
       "      <th></th>\n",
       "      <th>Var_X</th>\n",
       "      <th>Var_Y</th>\n",
       "    </tr>\n",
       "  </thead>\n",
       "  <tbody>\n",
       "    <tr>\n",
       "      <th>14</th>\n",
       "      <td>-2.79140</td>\n",
       "      <td>4.29794</td>\n",
       "    </tr>\n",
       "    <tr>\n",
       "      <th>10</th>\n",
       "      <td>-1.48662</td>\n",
       "      <td>7.22328</td>\n",
       "    </tr>\n",
       "    <tr>\n",
       "      <th>2</th>\n",
       "      <td>-1.19438</td>\n",
       "      <td>5.16161</td>\n",
       "    </tr>\n",
       "    <tr>\n",
       "      <th>19</th>\n",
       "      <td>-1.01925</td>\n",
       "      <td>5.31123</td>\n",
       "    </tr>\n",
       "    <tr>\n",
       "      <th>3</th>\n",
       "      <td>-0.65046</td>\n",
       "      <td>8.43823</td>\n",
       "    </tr>\n",
       "  </tbody>\n",
       "</table>\n",
       "</div>"
      ],
      "text/plain": [
       "      Var_X    Var_Y\n",
       "14 -2.79140  4.29794\n",
       "10 -1.48662  7.22328\n",
       "2  -1.19438  5.16161\n",
       "19 -1.01925  5.31123\n",
       "3  -0.65046  8.43823"
      ]
     },
     "execution_count": 403,
     "metadata": {},
     "output_type": "execute_result"
    }
   ],
   "source": [
    "train_data = pd.read_csv(\"../data/poly_reg.csv\").sort_values(by = ['Var_X'])\n",
    "train_data.head()"
   ]
  },
  {
   "cell_type": "code",
   "execution_count": 404,
   "metadata": {},
   "outputs": [
    {
     "name": "stdout",
     "output_type": "stream",
     "text": [
      "Total number of observations is 20\n"
     ]
    }
   ],
   "source": [
    "print(\"Total number of observations is\", train_data.shape[0])"
   ]
  },
  {
   "cell_type": "markdown",
   "metadata": {},
   "source": [
    "### Let's see what the data looks like"
   ]
  },
  {
   "cell_type": "code",
   "execution_count": 405,
   "metadata": {},
   "outputs": [
    {
     "data": {
      "text/plain": [
       "<matplotlib.collections.PathCollection at 0x7fa54877fa90>"
      ]
     },
     "execution_count": 405,
     "metadata": {},
     "output_type": "execute_result"
    },
    {
     "data": {
      "image/png": "[encoded data removed]",
      "text/plain": [
       "<Figure size 432x288 with 1 Axes>"
      ]
     },
     "metadata": {
      "needs_background": "light"
     },
     "output_type": "display_data"
    }
   ],
   "source": [
    "plt.scatter(train_data['Var_X'], train_data['Var_Y'], zorder=3)"
   ]
  },
  {
   "cell_type": "markdown",
   "metadata": {},
   "source": [
    "### In order to create polynomial features out of the predictor x it needs to be a 2-d array of 20 rows by 1 column, where as Y can just be a simple array"
   ]
  },
  {
   "cell_type": "code",
   "execution_count": 406,
   "metadata": {},
   "outputs": [
    {
     "data": {
      "text/plain": [
       "array([[-2.7914 ],\n",
       "       [-1.48662],\n",
       "       [-1.19438],\n",
       "       [-1.01925],\n",
       "       [-0.65046],\n",
       "       [-0.33532],\n",
       "       [-0.28001],\n",
       "       [ 0.0216 ],\n",
       "       [ 0.24183],\n",
       "       [ 0.37629],\n",
       "       [ 0.54924],\n",
       "       [ 0.74727],\n",
       "       [ 1.08176],\n",
       "       [ 1.2262 ],\n",
       "       [ 1.43918],\n",
       "       [ 1.93258],\n",
       "       [ 2.36449],\n",
       "       [ 2.81555],\n",
       "       [ 2.87457],\n",
       "       [ 3.32853]])"
      ]
     },
     "execution_count": 406,
     "metadata": {},
     "output_type": "execute_result"
    }
   ],
   "source": [
    "X = np.array(train_data[[\"Var_X\"]])\n",
    "X"
   ]
  },
  {
   "cell_type": "code",
   "execution_count": 407,
   "metadata": {},
   "outputs": [
    {
     "data": {
      "text/plain": [
       "numpy.ndarray"
      ]
     },
     "execution_count": 407,
     "metadata": {},
     "output_type": "execute_result"
    }
   ],
   "source": [
    "type(X)"
   ]
  },
  {
   "cell_type": "code",
   "execution_count": 408,
   "metadata": {},
   "outputs": [
    {
     "data": {
      "text/plain": [
       "array([  4.29794,   7.22328,   5.16161,   5.31123,   8.43823,   6.66854,\n",
       "         5.57201,   3.86398,   2.00412,   2.38887,  -3.52863,  -4.63725,\n",
       "        -5.86553,  -5.31226,  -7.13415, -11.1327 , -10.16202,  -5.20711,\n",
       "        -6.06084,   3.8065 ])"
      ]
     },
     "execution_count": 408,
     "metadata": {},
     "output_type": "execute_result"
    }
   ],
   "source": [
    "y = train_data[\"Var_Y\"].values\n",
    "y"
   ]
  },
  {
   "cell_type": "markdown",
   "metadata": {},
   "source": [
    "### N is the constant of the degree of polynomial in place"
   ]
  },
  {
   "cell_type": "code",
   "execution_count": 409,
   "metadata": {},
   "outputs": [],
   "source": [
    "n = 4"
   ]
  },
  {
   "cell_type": "markdown",
   "metadata": {},
   "source": [
    "### First let's create a polynomial feature object called poly_feat by calling the PolynomialFeatures class of sklearn and passing n as the degree"
   ]
  },
  {
   "cell_type": "code",
   "execution_count": 410,
   "metadata": {},
   "outputs": [],
   "source": [
    "poly_feat = PolynomialFeatures(n)"
   ]
  },
  {
   "cell_type": "markdown",
   "metadata": {},
   "source": [
    "### Now we create the new polynomial feature matrix X_poly"
   ]
  },
  {
   "cell_type": "code",
   "execution_count": 411,
   "metadata": {},
   "outputs": [
    {
     "data": {
      "text/plain": [
       "array([[ 1.00000000e+00, -2.79140000e+00,  7.79191396e+00,\n",
       "        -2.17503486e+01,  6.07139232e+01],\n",
       "       [ 1.00000000e+00, -1.48662000e+00,  2.21003902e+00,\n",
       "        -3.28548821e+00,  4.88427249e+00],\n",
       "       [ 1.00000000e+00, -1.19438000e+00,  1.42654358e+00,\n",
       "        -1.70383513e+00,  2.03502660e+00],\n",
       "       [ 1.00000000e+00, -1.01925000e+00,  1.03887056e+00,\n",
       "        -1.05886882e+00,  1.07925205e+00],\n",
       "       [ 1.00000000e+00, -6.50460000e-01,  4.23098212e-01,\n",
       "        -2.75208463e-01,  1.79012097e-01],\n",
       "       [ 1.00000000e+00, -3.35320000e-01,  1.12439502e-01,\n",
       "        -3.77032139e-02,  1.26426417e-02],\n",
       "       [ 1.00000000e+00, -2.80010000e-01,  7.84056001e-02,\n",
       "        -2.19543521e-02,  6.14743813e-03],\n",
       "       [ 1.00000000e+00,  2.16000000e-02,  4.66560000e-04,\n",
       "         1.00776960e-05,  2.17678234e-07],\n",
       "       [ 1.00000000e+00,  2.41830000e-01,  5.84817489e-02,\n",
       "         1.41426413e-02,  3.42011495e-03],\n",
       "       [ 1.00000000e+00,  3.76290000e-01,  1.41594164e-01,\n",
       "         5.32804680e-02,  2.00489073e-02],\n",
       "       [ 1.00000000e+00,  5.49240000e-01,  3.01664578e-01,\n",
       "         1.65686253e-01,  9.10015174e-02],\n",
       "       [ 1.00000000e+00,  7.47270000e-01,  5.58412453e-01,\n",
       "         4.17284874e-01,  3.11824468e-01],\n",
       "       [ 1.00000000e+00,  1.08176000e+00,  1.17020470e+00,\n",
       "         1.26588063e+00,  1.36937903e+00],\n",
       "       [ 1.00000000e+00,  1.22620000e+00,  1.50356644e+00,\n",
       "         1.84367317e+00,  2.26071204e+00],\n",
       "       [ 1.00000000e+00,  1.43918000e+00,  2.07123907e+00,\n",
       "         2.98088585e+00,  4.29003130e+00],\n",
       "       [ 1.00000000e+00,  1.93258000e+00,  3.73486546e+00,\n",
       "         7.21792628e+00,  1.39492200e+01],\n",
       "       [ 1.00000000e+00,  2.36449000e+00,  5.59081296e+00,\n",
       "         1.32194213e+01,  3.12571896e+01],\n",
       "       [ 1.00000000e+00,  2.81555000e+00,  7.92732180e+00,\n",
       "         2.23197709e+01,  6.28424310e+01],\n",
       "       [ 1.00000000e+00,  2.87457000e+00,  8.26315268e+00,\n",
       "         2.37530108e+01,  6.82796923e+01],\n",
       "       [ 1.00000000e+00,  3.32853000e+00,  1.10791120e+01,\n",
       "         3.68771565e+01,  1.22746722e+02]])"
      ]
     },
     "execution_count": 411,
     "metadata": {},
     "output_type": "execute_result"
    }
   ],
   "source": [
    "X_poly = poly_feat.fit_transform(X)\n",
    "X_poly"
   ]
  },
  {
   "cell_type": "markdown",
   "metadata": {},
   "source": [
    "### Create a LinearRegression object"
   ]
  },
  {
   "cell_type": "code",
   "execution_count": 415,
   "metadata": {},
   "outputs": [],
   "source": [
    "model = LinearRegression(fit_intercept = False)"
   ]
  },
  {
   "cell_type": "markdown",
   "metadata": {},
   "source": [
    "### Fits the Linear Regression model to the polynomial predictor features"
   ]
  },
  {
   "cell_type": "code",
   "execution_count": 416,
   "metadata": {},
   "outputs": [
    {
     "data": {
      "text/plain": [
       "LinearRegression(fit_intercept=False)"
      ]
     },
     "execution_count": 416,
     "metadata": {},
     "output_type": "execute_result"
    }
   ],
   "source": [
    "model.fit(X_poly,y)"
   ]
  },
  {
   "cell_type": "markdown",
   "metadata": {},
   "source": [
    "### Now let's plot the model prediction using the polynomial matrix - y to the original X values"
   ]
  },
  {
   "cell_type": "code",
   "execution_count": 414,
   "metadata": {},
   "outputs": [
    {
     "data": {
      "text/plain": [
       "[<matplotlib.lines.Line2D at 0x7fa5490c7130>]"
      ]
     },
     "execution_count": 414,
     "metadata": {},
     "output_type": "execute_result"
    },
    {
     "data": {
      "image/png": "[encoded data removed]",
      "text/plain": [
       "<Figure size 432x288 with 1 Axes>"
      ]
     },
     "metadata": {
      "needs_background": "light"
     },
     "output_type": "display_data"
    }
   ],
   "source": [
    "plt.plot(X, model.predict(X_poly))"
   ]
  },
  {
   "cell_type": "code",
   "execution_count": 398,
   "metadata": {},
   "outputs": [
    {
     "data": {
      "text/plain": [
       "<matplotlib.collections.PathCollection at 0x7fa548660e80>"
      ]
     },
     "execution_count": 398,
     "metadata": {},
     "output_type": "execute_result"
    },
    {
     "data": {
      "image/png": "[encoded data removed]",
      "text/plain": [
       "<Figure size 432x288 with 1 Axes>"
      ]
     },
     "metadata": {
      "needs_background": "light"
     },
     "output_type": "display_data"
    }
   ],
   "source": [
    "plt.scatter(train_data['Var_X'], train_data['Var_Y'], zorder=3)"
   ]
  }
 ],
 "metadata": {
  "kernelspec": {
   "display_name": "udacity3.8",
   "language": "python",
   "name": "udacity3.8"
  },
  "language_info": {
   "codemirror_mode": {
    "name": "ipython",
    "version": 3
   },
   "file_extension": ".py",
   "mimetype": "text/x-python",
   "name": "python",
   "nbconvert_exporter": "python",
   "pygments_lexer": "ipython3",
   "version": "3.8.3"
  }
 },
 "nbformat": 4,
 "nbformat_minor": 4
}
