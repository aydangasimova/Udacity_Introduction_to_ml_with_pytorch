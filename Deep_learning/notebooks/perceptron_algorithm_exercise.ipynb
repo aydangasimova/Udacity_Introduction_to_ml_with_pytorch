{
 "cells": [
  {
   "cell_type": "markdown",
   "metadata": {},
   "source": [
    "# <center> Perceptron Algorithm "
   ]
  },
  {
   "cell_type": "code",
   "execution_count": 1,
   "metadata": {},
   "outputs": [],
   "source": [
    "import numpy as np\n",
    "import pandas as pd\n",
    "import matplotlib.pyplot as plt"
   ]
  },
  {
   "cell_type": "markdown",
   "metadata": {},
   "source": [
    "### Load the data"
   ]
  },
  {
   "cell_type": "code",
   "execution_count": 3,
   "metadata": {
    "scrolled": true
   },
   "outputs": [
    {
     "data": {
      "text/html": [
       "<div>\n",
       "<style scoped>\n",
       "    .dataframe tbody tr th:only-of-type {\n",
       "        vertical-align: middle;\n",
       "    }\n",
       "\n",
       "    .dataframe tbody tr th {\n",
       "        vertical-align: top;\n",
       "    }\n",
       "\n",
       "    .dataframe thead th {\n",
       "        text-align: right;\n",
       "    }\n",
       "</style>\n",
       "<table border=\"1\" class=\"dataframe\">\n",
       "  <thead>\n",
       "    <tr style=\"text-align: right;\">\n",
       "      <th></th>\n",
       "      <th>p</th>\n",
       "      <th>q</th>\n",
       "      <th>correctly_classified</th>\n",
       "    </tr>\n",
       "  </thead>\n",
       "  <tbody>\n",
       "    <tr>\n",
       "      <th>0</th>\n",
       "      <td>0.78051</td>\n",
       "      <td>-0.063669</td>\n",
       "      <td>1</td>\n",
       "    </tr>\n",
       "    <tr>\n",
       "      <th>1</th>\n",
       "      <td>0.28774</td>\n",
       "      <td>0.291390</td>\n",
       "      <td>1</td>\n",
       "    </tr>\n",
       "    <tr>\n",
       "      <th>2</th>\n",
       "      <td>0.40714</td>\n",
       "      <td>0.178780</td>\n",
       "      <td>1</td>\n",
       "    </tr>\n",
       "    <tr>\n",
       "      <th>3</th>\n",
       "      <td>0.29230</td>\n",
       "      <td>0.421700</td>\n",
       "      <td>1</td>\n",
       "    </tr>\n",
       "    <tr>\n",
       "      <th>4</th>\n",
       "      <td>0.50922</td>\n",
       "      <td>0.352560</td>\n",
       "      <td>1</td>\n",
       "    </tr>\n",
       "    <tr>\n",
       "      <th>...</th>\n",
       "      <td>...</td>\n",
       "      <td>...</td>\n",
       "      <td>...</td>\n",
       "    </tr>\n",
       "    <tr>\n",
       "      <th>95</th>\n",
       "      <td>0.77029</td>\n",
       "      <td>0.701400</td>\n",
       "      <td>0</td>\n",
       "    </tr>\n",
       "    <tr>\n",
       "      <th>96</th>\n",
       "      <td>0.73156</td>\n",
       "      <td>0.717820</td>\n",
       "      <td>0</td>\n",
       "    </tr>\n",
       "    <tr>\n",
       "      <th>97</th>\n",
       "      <td>0.44556</td>\n",
       "      <td>0.579910</td>\n",
       "      <td>0</td>\n",
       "    </tr>\n",
       "    <tr>\n",
       "      <th>98</th>\n",
       "      <td>0.85275</td>\n",
       "      <td>0.859870</td>\n",
       "      <td>0</td>\n",
       "    </tr>\n",
       "    <tr>\n",
       "      <th>99</th>\n",
       "      <td>0.51912</td>\n",
       "      <td>0.623590</td>\n",
       "      <td>0</td>\n",
       "    </tr>\n",
       "  </tbody>\n",
       "</table>\n",
       "<p>100 rows × 3 columns</p>\n",
       "</div>"
      ],
      "text/plain": [
       "          p         q  correctly_classified\n",
       "0   0.78051 -0.063669                     1\n",
       "1   0.28774  0.291390                     1\n",
       "2   0.40714  0.178780                     1\n",
       "3   0.29230  0.421700                     1\n",
       "4   0.50922  0.352560                     1\n",
       "..      ...       ...                   ...\n",
       "95  0.77029  0.701400                     0\n",
       "96  0.73156  0.717820                     0\n",
       "97  0.44556  0.579910                     0\n",
       "98  0.85275  0.859870                     0\n",
       "99  0.51912  0.623590                     0\n",
       "\n",
       "[100 rows x 3 columns]"
      ]
     },
     "execution_count": 3,
     "metadata": {},
     "output_type": "execute_result"
    }
   ],
   "source": [
    "train_data = pd.read_csv(\"../data/perceptron_alg.csv\", header = None)\n",
    "train_data.columns = [\"p\", \"q\", \"correctly_classified\"]\n",
    "train_data"
   ]
  },
  {
   "cell_type": "code",
   "execution_count": 4,
   "metadata": {
    "scrolled": true
   },
   "outputs": [
    {
     "data": {
      "text/html": [
       "<div>\n",
       "<style scoped>\n",
       "    .dataframe tbody tr th:only-of-type {\n",
       "        vertical-align: middle;\n",
       "    }\n",
       "\n",
       "    .dataframe tbody tr th {\n",
       "        vertical-align: top;\n",
       "    }\n",
       "\n",
       "    .dataframe thead th {\n",
       "        text-align: right;\n",
       "    }\n",
       "</style>\n",
       "<table border=\"1\" class=\"dataframe\">\n",
       "  <thead>\n",
       "    <tr style=\"text-align: right;\">\n",
       "      <th></th>\n",
       "      <th>p</th>\n",
       "      <th>q</th>\n",
       "      <th>correctly_classified</th>\n",
       "    </tr>\n",
       "  </thead>\n",
       "  <tbody>\n",
       "    <tr>\n",
       "      <th>50</th>\n",
       "      <td>0.55330</td>\n",
       "      <td>1.00000</td>\n",
       "      <td>0</td>\n",
       "    </tr>\n",
       "    <tr>\n",
       "      <th>51</th>\n",
       "      <td>0.44274</td>\n",
       "      <td>0.59205</td>\n",
       "      <td>0</td>\n",
       "    </tr>\n",
       "    <tr>\n",
       "      <th>52</th>\n",
       "      <td>0.85176</td>\n",
       "      <td>0.66120</td>\n",
       "      <td>0</td>\n",
       "    </tr>\n",
       "    <tr>\n",
       "      <th>53</th>\n",
       "      <td>0.60436</td>\n",
       "      <td>0.86605</td>\n",
       "      <td>0</td>\n",
       "    </tr>\n",
       "    <tr>\n",
       "      <th>54</th>\n",
       "      <td>0.68243</td>\n",
       "      <td>0.48301</td>\n",
       "      <td>0</td>\n",
       "    </tr>\n",
       "    <tr>\n",
       "      <th>55</th>\n",
       "      <td>1.00000</td>\n",
       "      <td>0.76815</td>\n",
       "      <td>0</td>\n",
       "    </tr>\n",
       "    <tr>\n",
       "      <th>56</th>\n",
       "      <td>0.72989</td>\n",
       "      <td>0.81070</td>\n",
       "      <td>0</td>\n",
       "    </tr>\n",
       "    <tr>\n",
       "      <th>57</th>\n",
       "      <td>0.67377</td>\n",
       "      <td>0.77975</td>\n",
       "      <td>0</td>\n",
       "    </tr>\n",
       "    <tr>\n",
       "      <th>58</th>\n",
       "      <td>0.78761</td>\n",
       "      <td>0.58177</td>\n",
       "      <td>0</td>\n",
       "    </tr>\n",
       "    <tr>\n",
       "      <th>59</th>\n",
       "      <td>0.71442</td>\n",
       "      <td>0.76680</td>\n",
       "      <td>0</td>\n",
       "    </tr>\n",
       "    <tr>\n",
       "      <th>60</th>\n",
       "      <td>0.49379</td>\n",
       "      <td>0.54226</td>\n",
       "      <td>0</td>\n",
       "    </tr>\n",
       "    <tr>\n",
       "      <th>61</th>\n",
       "      <td>0.78974</td>\n",
       "      <td>0.74233</td>\n",
       "      <td>0</td>\n",
       "    </tr>\n",
       "    <tr>\n",
       "      <th>62</th>\n",
       "      <td>0.67905</td>\n",
       "      <td>0.60921</td>\n",
       "      <td>0</td>\n",
       "    </tr>\n",
       "    <tr>\n",
       "      <th>63</th>\n",
       "      <td>0.66420</td>\n",
       "      <td>0.72519</td>\n",
       "      <td>0</td>\n",
       "    </tr>\n",
       "    <tr>\n",
       "      <th>64</th>\n",
       "      <td>0.79396</td>\n",
       "      <td>0.56789</td>\n",
       "      <td>0</td>\n",
       "    </tr>\n",
       "    <tr>\n",
       "      <th>65</th>\n",
       "      <td>0.70758</td>\n",
       "      <td>0.76022</td>\n",
       "      <td>0</td>\n",
       "    </tr>\n",
       "    <tr>\n",
       "      <th>66</th>\n",
       "      <td>0.59421</td>\n",
       "      <td>0.61857</td>\n",
       "      <td>0</td>\n",
       "    </tr>\n",
       "    <tr>\n",
       "      <th>67</th>\n",
       "      <td>0.49364</td>\n",
       "      <td>0.56224</td>\n",
       "      <td>0</td>\n",
       "    </tr>\n",
       "    <tr>\n",
       "      <th>68</th>\n",
       "      <td>0.77707</td>\n",
       "      <td>0.35025</td>\n",
       "      <td>0</td>\n",
       "    </tr>\n",
       "    <tr>\n",
       "      <th>69</th>\n",
       "      <td>0.79785</td>\n",
       "      <td>0.76921</td>\n",
       "      <td>0</td>\n",
       "    </tr>\n",
       "    <tr>\n",
       "      <th>70</th>\n",
       "      <td>0.70876</td>\n",
       "      <td>0.96764</td>\n",
       "      <td>0</td>\n",
       "    </tr>\n",
       "    <tr>\n",
       "      <th>71</th>\n",
       "      <td>0.69176</td>\n",
       "      <td>0.60865</td>\n",
       "      <td>0</td>\n",
       "    </tr>\n",
       "    <tr>\n",
       "      <th>72</th>\n",
       "      <td>0.66408</td>\n",
       "      <td>0.92075</td>\n",
       "      <td>0</td>\n",
       "    </tr>\n",
       "    <tr>\n",
       "      <th>73</th>\n",
       "      <td>0.65973</td>\n",
       "      <td>0.66666</td>\n",
       "      <td>0</td>\n",
       "    </tr>\n",
       "    <tr>\n",
       "      <th>74</th>\n",
       "      <td>0.64574</td>\n",
       "      <td>0.56845</td>\n",
       "      <td>0</td>\n",
       "    </tr>\n",
       "    <tr>\n",
       "      <th>75</th>\n",
       "      <td>0.89639</td>\n",
       "      <td>0.70850</td>\n",
       "      <td>0</td>\n",
       "    </tr>\n",
       "    <tr>\n",
       "      <th>76</th>\n",
       "      <td>0.85476</td>\n",
       "      <td>0.63167</td>\n",
       "      <td>0</td>\n",
       "    </tr>\n",
       "    <tr>\n",
       "      <th>77</th>\n",
       "      <td>0.62091</td>\n",
       "      <td>0.80424</td>\n",
       "      <td>0</td>\n",
       "    </tr>\n",
       "    <tr>\n",
       "      <th>78</th>\n",
       "      <td>0.79057</td>\n",
       "      <td>0.56108</td>\n",
       "      <td>0</td>\n",
       "    </tr>\n",
       "    <tr>\n",
       "      <th>79</th>\n",
       "      <td>0.58935</td>\n",
       "      <td>0.71582</td>\n",
       "      <td>0</td>\n",
       "    </tr>\n",
       "    <tr>\n",
       "      <th>80</th>\n",
       "      <td>0.56846</td>\n",
       "      <td>0.74060</td>\n",
       "      <td>0</td>\n",
       "    </tr>\n",
       "    <tr>\n",
       "      <th>81</th>\n",
       "      <td>0.65912</td>\n",
       "      <td>0.71548</td>\n",
       "      <td>0</td>\n",
       "    </tr>\n",
       "    <tr>\n",
       "      <th>82</th>\n",
       "      <td>0.70938</td>\n",
       "      <td>0.74041</td>\n",
       "      <td>0</td>\n",
       "    </tr>\n",
       "    <tr>\n",
       "      <th>83</th>\n",
       "      <td>0.59154</td>\n",
       "      <td>0.62927</td>\n",
       "      <td>0</td>\n",
       "    </tr>\n",
       "    <tr>\n",
       "      <th>84</th>\n",
       "      <td>0.45829</td>\n",
       "      <td>0.46410</td>\n",
       "      <td>0</td>\n",
       "    </tr>\n",
       "    <tr>\n",
       "      <th>85</th>\n",
       "      <td>0.79982</td>\n",
       "      <td>0.74847</td>\n",
       "      <td>0</td>\n",
       "    </tr>\n",
       "    <tr>\n",
       "      <th>86</th>\n",
       "      <td>0.60974</td>\n",
       "      <td>0.54757</td>\n",
       "      <td>0</td>\n",
       "    </tr>\n",
       "    <tr>\n",
       "      <th>87</th>\n",
       "      <td>0.68127</td>\n",
       "      <td>0.86985</td>\n",
       "      <td>0</td>\n",
       "    </tr>\n",
       "    <tr>\n",
       "      <th>88</th>\n",
       "      <td>0.76694</td>\n",
       "      <td>0.64736</td>\n",
       "      <td>0</td>\n",
       "    </tr>\n",
       "    <tr>\n",
       "      <th>89</th>\n",
       "      <td>0.69048</td>\n",
       "      <td>0.83058</td>\n",
       "      <td>0</td>\n",
       "    </tr>\n",
       "    <tr>\n",
       "      <th>90</th>\n",
       "      <td>0.68122</td>\n",
       "      <td>0.96541</td>\n",
       "      <td>0</td>\n",
       "    </tr>\n",
       "    <tr>\n",
       "      <th>91</th>\n",
       "      <td>0.73229</td>\n",
       "      <td>0.64245</td>\n",
       "      <td>0</td>\n",
       "    </tr>\n",
       "    <tr>\n",
       "      <th>92</th>\n",
       "      <td>0.76145</td>\n",
       "      <td>0.60138</td>\n",
       "      <td>0</td>\n",
       "    </tr>\n",
       "    <tr>\n",
       "      <th>93</th>\n",
       "      <td>0.58985</td>\n",
       "      <td>0.86955</td>\n",
       "      <td>0</td>\n",
       "    </tr>\n",
       "    <tr>\n",
       "      <th>94</th>\n",
       "      <td>0.73145</td>\n",
       "      <td>0.74516</td>\n",
       "      <td>0</td>\n",
       "    </tr>\n",
       "    <tr>\n",
       "      <th>95</th>\n",
       "      <td>0.77029</td>\n",
       "      <td>0.70140</td>\n",
       "      <td>0</td>\n",
       "    </tr>\n",
       "    <tr>\n",
       "      <th>96</th>\n",
       "      <td>0.73156</td>\n",
       "      <td>0.71782</td>\n",
       "      <td>0</td>\n",
       "    </tr>\n",
       "    <tr>\n",
       "      <th>97</th>\n",
       "      <td>0.44556</td>\n",
       "      <td>0.57991</td>\n",
       "      <td>0</td>\n",
       "    </tr>\n",
       "    <tr>\n",
       "      <th>98</th>\n",
       "      <td>0.85275</td>\n",
       "      <td>0.85987</td>\n",
       "      <td>0</td>\n",
       "    </tr>\n",
       "    <tr>\n",
       "      <th>99</th>\n",
       "      <td>0.51912</td>\n",
       "      <td>0.62359</td>\n",
       "      <td>0</td>\n",
       "    </tr>\n",
       "  </tbody>\n",
       "</table>\n",
       "</div>"
      ],
      "text/plain": [
       "          p        q  correctly_classified\n",
       "50  0.55330  1.00000                     0\n",
       "51  0.44274  0.59205                     0\n",
       "52  0.85176  0.66120                     0\n",
       "53  0.60436  0.86605                     0\n",
       "54  0.68243  0.48301                     0\n",
       "55  1.00000  0.76815                     0\n",
       "56  0.72989  0.81070                     0\n",
       "57  0.67377  0.77975                     0\n",
       "58  0.78761  0.58177                     0\n",
       "59  0.71442  0.76680                     0\n",
       "60  0.49379  0.54226                     0\n",
       "61  0.78974  0.74233                     0\n",
       "62  0.67905  0.60921                     0\n",
       "63  0.66420  0.72519                     0\n",
       "64  0.79396  0.56789                     0\n",
       "65  0.70758  0.76022                     0\n",
       "66  0.59421  0.61857                     0\n",
       "67  0.49364  0.56224                     0\n",
       "68  0.77707  0.35025                     0\n",
       "69  0.79785  0.76921                     0\n",
       "70  0.70876  0.96764                     0\n",
       "71  0.69176  0.60865                     0\n",
       "72  0.66408  0.92075                     0\n",
       "73  0.65973  0.66666                     0\n",
       "74  0.64574  0.56845                     0\n",
       "75  0.89639  0.70850                     0\n",
       "76  0.85476  0.63167                     0\n",
       "77  0.62091  0.80424                     0\n",
       "78  0.79057  0.56108                     0\n",
       "79  0.58935  0.71582                     0\n",
       "80  0.56846  0.74060                     0\n",
       "81  0.65912  0.71548                     0\n",
       "82  0.70938  0.74041                     0\n",
       "83  0.59154  0.62927                     0\n",
       "84  0.45829  0.46410                     0\n",
       "85  0.79982  0.74847                     0\n",
       "86  0.60974  0.54757                     0\n",
       "87  0.68127  0.86985                     0\n",
       "88  0.76694  0.64736                     0\n",
       "89  0.69048  0.83058                     0\n",
       "90  0.68122  0.96541                     0\n",
       "91  0.73229  0.64245                     0\n",
       "92  0.76145  0.60138                     0\n",
       "93  0.58985  0.86955                     0\n",
       "94  0.73145  0.74516                     0\n",
       "95  0.77029  0.70140                     0\n",
       "96  0.73156  0.71782                     0\n",
       "97  0.44556  0.57991                     0\n",
       "98  0.85275  0.85987                     0\n",
       "99  0.51912  0.62359                     0"
      ]
     },
     "execution_count": 4,
     "metadata": {},
     "output_type": "execute_result"
    }
   ],
   "source": [
    "train_data[train_data[\"correctly_classified\"]==0]"
   ]
  },
  {
   "cell_type": "code",
   "execution_count": 6,
   "metadata": {},
   "outputs": [],
   "source": [
    "train_data[\"X\"] = list(zip(train_data[\"p\"], train_data[\"q\"]))"
   ]
  },
  {
   "cell_type": "code",
   "execution_count": 7,
   "metadata": {
    "scrolled": true
   },
   "outputs": [
    {
     "data": {
      "text/html": [
       "<div>\n",
       "<style scoped>\n",
       "    .dataframe tbody tr th:only-of-type {\n",
       "        vertical-align: middle;\n",
       "    }\n",
       "\n",
       "    .dataframe tbody tr th {\n",
       "        vertical-align: top;\n",
       "    }\n",
       "\n",
       "    .dataframe thead th {\n",
       "        text-align: right;\n",
       "    }\n",
       "</style>\n",
       "<table border=\"1\" class=\"dataframe\">\n",
       "  <thead>\n",
       "    <tr style=\"text-align: right;\">\n",
       "      <th></th>\n",
       "      <th>p</th>\n",
       "      <th>q</th>\n",
       "      <th>correctly_classified</th>\n",
       "      <th>X</th>\n",
       "    </tr>\n",
       "  </thead>\n",
       "  <tbody>\n",
       "    <tr>\n",
       "      <th>0</th>\n",
       "      <td>0.78051</td>\n",
       "      <td>-0.063669</td>\n",
       "      <td>1</td>\n",
       "      <td>(0.78051, -0.063669)</td>\n",
       "    </tr>\n",
       "    <tr>\n",
       "      <th>1</th>\n",
       "      <td>0.28774</td>\n",
       "      <td>0.291390</td>\n",
       "      <td>1</td>\n",
       "      <td>(0.28774, 0.29139)</td>\n",
       "    </tr>\n",
       "    <tr>\n",
       "      <th>2</th>\n",
       "      <td>0.40714</td>\n",
       "      <td>0.178780</td>\n",
       "      <td>1</td>\n",
       "      <td>(0.40714, 0.17878)</td>\n",
       "    </tr>\n",
       "    <tr>\n",
       "      <th>3</th>\n",
       "      <td>0.29230</td>\n",
       "      <td>0.421700</td>\n",
       "      <td>1</td>\n",
       "      <td>(0.2923, 0.4217)</td>\n",
       "    </tr>\n",
       "    <tr>\n",
       "      <th>4</th>\n",
       "      <td>0.50922</td>\n",
       "      <td>0.352560</td>\n",
       "      <td>1</td>\n",
       "      <td>(0.50922, 0.35256)</td>\n",
       "    </tr>\n",
       "    <tr>\n",
       "      <th>...</th>\n",
       "      <td>...</td>\n",
       "      <td>...</td>\n",
       "      <td>...</td>\n",
       "      <td>...</td>\n",
       "    </tr>\n",
       "    <tr>\n",
       "      <th>95</th>\n",
       "      <td>0.77029</td>\n",
       "      <td>0.701400</td>\n",
       "      <td>0</td>\n",
       "      <td>(0.77029, 0.7014)</td>\n",
       "    </tr>\n",
       "    <tr>\n",
       "      <th>96</th>\n",
       "      <td>0.73156</td>\n",
       "      <td>0.717820</td>\n",
       "      <td>0</td>\n",
       "      <td>(0.73156, 0.71782)</td>\n",
       "    </tr>\n",
       "    <tr>\n",
       "      <th>97</th>\n",
       "      <td>0.44556</td>\n",
       "      <td>0.579910</td>\n",
       "      <td>0</td>\n",
       "      <td>(0.44556, 0.57991)</td>\n",
       "    </tr>\n",
       "    <tr>\n",
       "      <th>98</th>\n",
       "      <td>0.85275</td>\n",
       "      <td>0.859870</td>\n",
       "      <td>0</td>\n",
       "      <td>(0.85275, 0.85987)</td>\n",
       "    </tr>\n",
       "    <tr>\n",
       "      <th>99</th>\n",
       "      <td>0.51912</td>\n",
       "      <td>0.623590</td>\n",
       "      <td>0</td>\n",
       "      <td>(0.51912, 0.62359)</td>\n",
       "    </tr>\n",
       "  </tbody>\n",
       "</table>\n",
       "<p>100 rows × 4 columns</p>\n",
       "</div>"
      ],
      "text/plain": [
       "          p         q  correctly_classified                     X\n",
       "0   0.78051 -0.063669                     1  (0.78051, -0.063669)\n",
       "1   0.28774  0.291390                     1    (0.28774, 0.29139)\n",
       "2   0.40714  0.178780                     1    (0.40714, 0.17878)\n",
       "3   0.29230  0.421700                     1      (0.2923, 0.4217)\n",
       "4   0.50922  0.352560                     1    (0.50922, 0.35256)\n",
       "..      ...       ...                   ...                   ...\n",
       "95  0.77029  0.701400                     0     (0.77029, 0.7014)\n",
       "96  0.73156  0.717820                     0    (0.73156, 0.71782)\n",
       "97  0.44556  0.579910                     0    (0.44556, 0.57991)\n",
       "98  0.85275  0.859870                     0    (0.85275, 0.85987)\n",
       "99  0.51912  0.623590                     0    (0.51912, 0.62359)\n",
       "\n",
       "[100 rows x 4 columns]"
      ]
     },
     "execution_count": 7,
     "metadata": {},
     "output_type": "execute_result"
    }
   ],
   "source": [
    "train_data"
   ]
  },
  {
   "cell_type": "code",
   "execution_count": 8,
   "metadata": {},
   "outputs": [],
   "source": [
    "correct = train_data[train_data['correctly_classified']==1]\n",
    "false = train_data[train_data['correctly_classified']==0]"
   ]
  },
  {
   "cell_type": "code",
   "execution_count": 10,
   "metadata": {},
   "outputs": [
    {
     "data": {
      "image/png": "[encoded data removed]",
      "text/plain": [
       "<Figure size 432x288 with 1 Axes>"
      ]
     },
     "metadata": {
      "needs_background": "light"
     },
     "output_type": "display_data"
    }
   ],
   "source": [
    "plt.figure()\n",
    "plt.scatter(correct['p'], correct['q'], color='C0')\n",
    "plt.scatter(false['p'], false['q'], color='C1')\n",
    "plt.show()"
   ]
  },
  {
   "cell_type": "markdown",
   "metadata": {},
   "source": [
    "### Setting the random seed, feel free to change it and see different solutions"
   ]
  },
  {
   "cell_type": "code",
   "execution_count": 11,
   "metadata": {},
   "outputs": [],
   "source": [
    "np.random.seed(42)"
   ]
  },
  {
   "cell_type": "markdown",
   "metadata": {},
   "source": [
    "### Define step and prediction functions"
   ]
  },
  {
   "cell_type": "code",
   "execution_count": 12,
   "metadata": {},
   "outputs": [],
   "source": [
    "def stepFunction(t):\n",
    "    if t >= 0:\n",
    "        return 1\n",
    "    return 0\n",
    "\n",
    "def prediction(X, W, b):\n",
    "    return stepFunction((np.matmul(X, W) + b)[0])\n",
    "\n",
    "def prediction_int(X, W, b):\n",
    "    return print((np.matmul(X, W).diagonal() + b)[0])"
   ]
  },
  {
   "cell_type": "markdown",
   "metadata": {},
   "source": [
    "### Figure out how the calculation of \"\"\"*SCORE = x1w1 + x2w2 +b*\"\"\" is achieved"
   ]
  },
  {
   "cell_type": "code",
   "execution_count": 13,
   "metadata": {},
   "outputs": [],
   "source": [
    "X = np.array([(3,9), (2,2)])\n",
    "W = np.array([(1,2), (3,3)]).transpose()"
   ]
  },
  {
   "cell_type": "code",
   "execution_count": 14,
   "metadata": {},
   "outputs": [
    {
     "data": {
      "text/plain": [
       "array([[3, 9],\n",
       "       [2, 2]])"
      ]
     },
     "execution_count": 14,
     "metadata": {},
     "output_type": "execute_result"
    }
   ],
   "source": [
    "X"
   ]
  },
  {
   "cell_type": "code",
   "execution_count": 15,
   "metadata": {},
   "outputs": [
    {
     "data": {
      "text/plain": [
       "array([[1, 3],\n",
       "       [2, 3]])"
      ]
     },
     "execution_count": 15,
     "metadata": {},
     "output_type": "execute_result"
    }
   ],
   "source": [
    "W"
   ]
  },
  {
   "cell_type": "code",
   "execution_count": 16,
   "metadata": {},
   "outputs": [
    {
     "data": {
      "text/plain": [
       "array([21, 12])"
      ]
     },
     "execution_count": 16,
     "metadata": {},
     "output_type": "execute_result"
    }
   ],
   "source": [
    "np.matmul(X,W).diagonal()"
   ]
  },
  {
   "cell_type": "code",
   "execution_count": 17,
   "metadata": {},
   "outputs": [
    {
     "data": {
      "text/plain": [
       "[21, 12]"
      ]
     },
     "execution_count": 17,
     "metadata": {},
     "output_type": "execute_result"
    }
   ],
   "source": [
    "correct_values = [3+18, 6+6]\n",
    "correct_values"
   ]
  },
  {
   "cell_type": "code",
   "execution_count": 18,
   "metadata": {},
   "outputs": [
    {
     "name": "stdout",
     "output_type": "stream",
     "text": [
      "21\n"
     ]
    }
   ],
   "source": [
    "prediction_int(X, W, 0)"
   ]
  },
  {
   "cell_type": "markdown",
   "metadata": {},
   "source": [
    "### Define the perceptronStep function to implement the Perceptron Trick"
   ]
  },
  {
   "cell_type": "markdown",
   "metadata": {},
   "source": [
    "The function should receive as inputs the data X, the labels y,  the weights W (as an array), and the bias b, update the weights and bias W, b, according to the perceptron algorithm, and return W and b."
   ]
  },
  {
   "cell_type": "code",
   "execution_count": 19,
   "metadata": {},
   "outputs": [
    {
     "data": {
      "text/plain": [
       "(0.28774, 0.29139)"
      ]
     },
     "execution_count": 19,
     "metadata": {},
     "output_type": "execute_result"
    }
   ],
   "source": [
    "X = train_data[\"X\"]\n",
    "X[1]"
   ]
  },
  {
   "cell_type": "code",
   "execution_count": 20,
   "metadata": {},
   "outputs": [
    {
     "data": {
      "text/plain": [
       "array([1, 1, 1, 1, 1, 1, 1, 1, 1, 1, 1, 1, 1, 1, 1, 1, 1, 1, 1, 1, 1, 1,\n",
       "       1, 1, 1, 1, 1, 1, 1, 1, 1, 1, 1, 1, 1, 1, 1, 1, 1, 1, 1, 1, 1, 1,\n",
       "       1, 1, 1, 1, 1, 1, 0, 0, 0, 0, 0, 0, 0, 0, 0, 0, 0, 0, 0, 0, 0, 0,\n",
       "       0, 0, 0, 0, 0, 0, 0, 0, 0, 0, 0, 0, 0, 0, 0, 0, 0, 0, 0, 0, 0, 0,\n",
       "       0, 0, 0, 0, 0, 0, 0, 0, 0, 0, 0, 0])"
      ]
     },
     "execution_count": 20,
     "metadata": {},
     "output_type": "execute_result"
    }
   ],
   "source": [
    "y = train_data[\"correctly_classified\"].values\n",
    "y"
   ]
  },
  {
   "cell_type": "code",
   "execution_count": 21,
   "metadata": {},
   "outputs": [
    {
     "name": "stdout",
     "output_type": "stream",
     "text": [
      "(0.78051, -0.063669) 1\n",
      "(0.28774, 0.29139) 1\n",
      "(0.40714, 0.17878) 1\n",
      "(0.2923, 0.4217) 1\n",
      "(0.50922, 0.35256) 1\n",
      "(0.27785, 0.10802) 1\n",
      "(0.27527, 0.33223) 1\n",
      "(0.43999, 0.31245) 1\n",
      "(0.33557, 0.42984) 1\n",
      "(0.23448, 0.24986) 1\n",
      "(0.0084492, 0.13658) 1\n",
      "(0.12419, 0.33595) 1\n",
      "(0.25644, 0.42624) 1\n",
      "(0.4591, 0.40426) 1\n",
      "(0.44547, 0.45117) 1\n",
      "(0.42218, 0.20118) 1\n",
      "(0.49563, 0.21445) 1\n",
      "(0.30848, 0.24306) 1\n",
      "(0.39707, 0.44438) 1\n",
      "(0.32945, 0.39217) 1\n",
      "(0.40739, 0.40271) 1\n",
      "(0.3106, 0.50702) 1\n",
      "(0.49638, 0.45384) 1\n",
      "(0.10073, 0.32053) 1\n",
      "(0.69907, 0.37307) 1\n",
      "(0.29767, 0.69648) 1\n",
      "(0.15099, 0.57341) 1\n",
      "(0.16427, 0.27759) 1\n",
      "(0.33259, 0.055964) 1\n",
      "(0.53741, 0.28637) 1\n",
      "(0.19503, 0.36879) 1\n",
      "(0.40278, 0.035148) 1\n",
      "(0.21296, 0.55169) 1\n",
      "(0.48447, 0.56991) 1\n",
      "(0.25476, 0.34596) 1\n",
      "(0.21726, 0.28641) 1\n",
      "(0.67078, 0.46538) 1\n",
      "(0.3815, 0.4622) 1\n",
      "(0.53838, 0.32774) 1\n",
      "(0.4849, 0.26071) 1\n",
      "(0.37095, 0.38809) 1\n",
      "(0.54527, 0.63911) 1\n",
      "(0.32149, 0.12007) 1\n",
      "(0.42216, 0.61666) 1\n",
      "(0.10194, 0.060408) 1\n",
      "(0.15254, 0.2168) 1\n",
      "(0.45558, 0.43769) 1\n",
      "(0.28488, 0.52142) 1\n",
      "(0.27633, 0.21264) 1\n",
      "(0.39748, 0.31902) 1\n",
      "(0.5533, 1.0) 0\n",
      "(0.44274, 0.59205) 0\n",
      "(0.85176, 0.6612) 0\n",
      "(0.60436, 0.86605) 0\n",
      "(0.68243, 0.48301) 0\n",
      "(1.0, 0.76815) 0\n",
      "(0.72989, 0.8107) 0\n",
      "(0.67377, 0.77975) 0\n",
      "(0.78761, 0.58177) 0\n",
      "(0.71442, 0.7668) 0\n",
      "(0.49379, 0.54226) 0\n",
      "(0.78974, 0.74233) 0\n",
      "(0.67905, 0.60921) 0\n",
      "(0.6642, 0.72519) 0\n",
      "(0.79396, 0.56789) 0\n",
      "(0.70758, 0.76022) 0\n",
      "(0.59421, 0.61857) 0\n",
      "(0.49364, 0.56224) 0\n",
      "(0.77707, 0.35025) 0\n",
      "(0.79785, 0.76921) 0\n",
      "(0.70876, 0.96764) 0\n",
      "(0.69176, 0.60865) 0\n",
      "(0.66408, 0.92075) 0\n",
      "(0.65973, 0.66666) 0\n",
      "(0.64574, 0.56845) 0\n",
      "(0.89639, 0.7085) 0\n",
      "(0.85476, 0.63167) 0\n",
      "(0.62091, 0.80424) 0\n",
      "(0.79057, 0.56108) 0\n",
      "(0.58935, 0.71582) 0\n",
      "(0.56846, 0.7406) 0\n",
      "(0.65912, 0.71548) 0\n",
      "(0.70938, 0.74041) 0\n",
      "(0.59154, 0.62927) 0\n",
      "(0.45829, 0.4641) 0\n",
      "(0.79982, 0.74847) 0\n",
      "(0.60974, 0.54757) 0\n",
      "(0.68127, 0.86985) 0\n",
      "(0.76694, 0.64736) 0\n",
      "(0.69048, 0.83058) 0\n",
      "(0.68122, 0.96541) 0\n",
      "(0.73229, 0.64245) 0\n",
      "(0.76145, 0.60138) 0\n",
      "(0.58985, 0.86955) 0\n",
      "(0.73145, 0.74516) 0\n",
      "(0.77029, 0.7014) 0\n",
      "(0.73156, 0.71782) 0\n",
      "(0.44556, 0.57991) 0\n",
      "(0.85275, 0.85987) 0\n",
      "(0.51912, 0.62359) 0\n"
     ]
    }
   ],
   "source": [
    "for x, y_val in zip(X, y):\n",
    "    print(x, y_val)"
   ]
  },
  {
   "cell_type": "code",
   "execution_count": 22,
   "metadata": {},
   "outputs": [],
   "source": [
    "def perceptronStep(X, y, W, b, learn_rate=0.01):\n",
    "    for i, x, y_val, w, b in zip(range(len(X)), X, y, W, b):\n",
    "        y_hat = prediction(X[i],W,b)\n",
    "        if y_hat == 0 and y_val == 1:\n",
    "            w[0] += learn_rate*x[0]\n",
    "            w[1] += learn_rate*x[1]\n",
    "            b_val += learn_rate\n",
    "        elif y_hat == 1 and y_val == 0:\n",
    "            w[0] -= learn_rate*x[0]\n",
    "            w[1] -= learn_rate*x[1]\n",
    "            b_val -= learn_rate\n",
    "        else:\n",
    "            pass\n",
    "    return W, b"
   ]
  },
  {
   "cell_type": "code",
   "execution_count": 23,
   "metadata": {},
   "outputs": [],
   "source": [
    "def perceptronStep(X, y, W, b, learn_rate = 0.01):\n",
    "    for i in range(len(X)):\n",
    "        y_hat = prediction(X[i],W,b)\n",
    "        if y[i]-y_hat == 1:\n",
    "            W[0] += X[i][0]*learn_rate\n",
    "            W[1] += X[i][1]*learn_rate\n",
    "            b += learn_rate\n",
    "        elif y[i]-y_hat == -1:\n",
    "            W[0] -= X[i][0]*learn_rate\n",
    "            W[1] -= X[i][1]*learn_rate\n",
    "            b -= learn_rate\n",
    "    return W, b"
   ]
  },
  {
   "cell_type": "markdown",
   "metadata": {},
   "source": [
    "### This function runs the perceptron algorithm repeatedly on the dataset, and returns a few of the boundary lines obtained in the iterations, for plotting purposes."
   ]
  },
  {
   "cell_type": "code",
   "execution_count": 425,
   "metadata": {},
   "outputs": [],
   "source": [
    "# Feel free to play with the learning rate and the num_epochs,\n",
    "# and see your results plotted below.\n",
    "def trainPerceptronAlgorithm(X, y, learn_rate=0.01, num_epochs=25):\n",
    "    x_min, x_max = min(X.T[0]), max(X.T[0])\n",
    "    y_min, y_max = min(X.T[1]), max(X.T[1])\n",
    "    W = np.array(np.random.rand(2, 1))\n",
    "    print(W)\n",
    "    b = np.random.rand(1)[0] + x_max\n",
    "    # These are the solution lines that get plotted below.\n",
    "    boundary_lines = []\n",
    "    for i in range(num_epochs):\n",
    "        # In each epoch, we apply the perceptron step.\n",
    "        W, b = perceptronStep(X, y, W, b, learn_rate)\n",
    "        boundary_lines.append((-W[0] / W[1], -b / W[1]))\n",
    "    return boundary_lines"
   ]
  },
  {
   "cell_type": "code",
   "execution_count": 426,
   "metadata": {},
   "outputs": [
    {
     "name": "stdout",
     "output_type": "stream",
     "text": [
      "[[0.43194502]\n",
      " [0.29122914]]\n"
     ]
    },
    {
     "data": {
      "text/plain": [
       "[(array([1.52557867]), array([15.31263155])),\n",
       " (array([-0.60788007]), array([1.05193339])),\n",
       " (array([-0.64409394]), array([0.83509426])),\n",
       " (array([-0.66342936]), array([0.81056531])),\n",
       " (array([-0.67212186]), array([0.81694633])),\n",
       " (array([-0.6809523]), array([0.82342862])),\n",
       " (array([-0.67956006]), array([0.82577061])),\n",
       " (array([-0.67195432]), array([0.82603739])),\n",
       " (array([-0.67018172]), array([0.82788747])),\n",
       " (array([-0.66840117]), array([0.82974585])),\n",
       " (array([-0.6797052]), array([0.80051169])),\n",
       " (array([-0.67555198]), array([0.83796892])),\n",
       " (array([-0.68692253]), array([0.80839533])),\n",
       " (array([-0.69602932]), array([0.81458247])),\n",
       " (array([-0.7052766]), array([0.82086506])),\n",
       " (array([-0.71466762]), array([0.82724531])),\n",
       " (array([-0.72423382]), array([0.8340944])),\n",
       " (array([-0.73395975]), array([0.84105784])),\n",
       " (array([-0.74384945]), array([0.84813853])),\n",
       " (array([-0.75390707]), array([0.85533945])),\n",
       " (array([-0.75263913]), array([0.85794304])),\n",
       " (array([-0.7445244]), array([0.85823968])),\n",
       " (array([-0.73640405]), array([0.85853653])),\n",
       " (array([-0.73466055]), array([0.8605955])),\n",
       " (array([-0.73290866]), array([0.86266437]))]"
      ]
     },
     "execution_count": 426,
     "metadata": {},
     "output_type": "execute_result"
    }
   ],
   "source": [
    "trainPerceptronAlgorithm(X, y, learn_rate=0.01, num_epochs=25)"
   ]
  },
  {
   "cell_type": "code",
   "execution_count": 448,
   "metadata": {},
   "outputs": [
    {
     "data": {
      "image/png": "[encoded data removed]",
      "text/plain": [
       "<Figure size 432x288 with 1 Axes>"
      ]
     },
     "metadata": {
      "needs_background": "light"
     },
     "output_type": "display_data"
    }
   ],
   "source": [
    "plt.figure()\n",
    "plt.scatter(correct['p'], correct['q'], color='C0')\n",
    "plt.scatter(false['p'], false['q'], color='C1')\n",
    "plt.show()"
   ]
  },
  {
   "cell_type": "code",
   "execution_count": 450,
   "metadata": {},
   "outputs": [
    {
     "name": "stdout",
     "output_type": "stream",
     "text": [
      "[[0.37454012]\n",
      " [0.95071431]]\n"
     ]
    }
   ],
   "source": [
    "boundary_lines = trainPerceptronAlgorithm(X,y)"
   ]
  },
  {
   "cell_type": "code",
   "execution_count": 451,
   "metadata": {},
   "outputs": [],
   "source": [
    "def abline(slope, intercept,i):\n",
    "    \"\"\"Plot a line from slope and intercept\"\"\"\n",
    "    axes = plt.gca()\n",
    "    x_vals = np.array(axes.get_xlim())\n",
    "    y_vals = intercept + slope * x_vals\n",
    "    plt.xlim(-0.5, 1.5)\n",
    "    plt.ylim(-0.5, 1.5)\n",
    "    if i == len(boundary_lines) - 1:\n",
    "        plt.plot(x_vals, y_vals,color='black')\n",
    "    else:\n",
    "        plt.plot(x_vals, y_vals, '--',color='green')"
   ]
  },
  {
   "cell_type": "code",
   "execution_count": 455,
   "metadata": {},
   "outputs": [
    {
     "data": {
      "image/png": "[encoded data removed]",
      "text/plain": [
       "<Figure size 432x288 with 1 Axes>"
      ]
     },
     "metadata": {
      "needs_background": "light"
     },
     "output_type": "display_data"
    }
   ],
   "source": [
    "slope = [i[0][0] for i in boundary_lines]\n",
    "intercepts = [i[1][0] for i in boundary_lines]\n",
    "\n",
    "# plt.scatter(X[:,0],X[:,1],c=y,marker='o',edgecolors='black',cmap='bwr')\n",
    "plt.scatter(correct['p'], correct['q'], color='C0')\n",
    "plt.scatter(false['p'], false['q'], color='C1')\n",
    "plt.show()\n",
    "\n",
    "for i in range(len(slope)):\n",
    "    abline(slope[i],intercepts[i],i)"
   ]
  },
  {
   "cell_type": "code",
   "execution_count": null,
   "metadata": {},
   "outputs": [],
   "source": []
  }
 ],
 "metadata": {
  "kernelspec": {
   "display_name": "udacity3.8",
   "language": "python",
   "name": "udacity3.8"
  },
  "language_info": {
   "codemirror_mode": {
    "name": "ipython",
    "version": 3
   },
   "file_extension": ".py",
   "mimetype": "text/x-python",
   "name": "python",
   "nbconvert_exporter": "python",
   "pygments_lexer": "ipython3",
   "version": "3.8.3"
  }
 },
 "nbformat": 4,
 "nbformat_minor": 4
}
